{
  "nbformat": 4,
  "nbformat_minor": 0,
  "metadata": {
    "colab": {
      "name": "SysProgramming.ipynb",
      "provenance": [],
      "toc_visible": true,
      "authorship_tag": "ABX9TyPomjmIJfNxfW2j1bp9D6OY",
      "include_colab_link": true
    },
    "kernelspec": {
      "name": "python3",
      "display_name": "Python 3"
    }
  },
  "cells": [
    {
      "cell_type": "markdown",
      "metadata": {
        "id": "view-in-github",
        "colab_type": "text"
      },
      "source": [
        "<a href=\"https://colab.research.google.com/github/vyaroslavskyi/FCSD/blob/master/SysProgramming.ipynb\" target=\"_parent\"><img src=\"https://colab.research.google.com/assets/colab-badge.svg\" alt=\"Open In Colab\"/></a>"
      ]
    },
    {
      "cell_type": "markdown",
      "metadata": {
        "id": "gLWo7UWtsW6q"
      },
      "source": [
        "# Binary Search"
      ]
    },
    {
      "cell_type": "code",
      "metadata": {
        "id": "Hm60RxcGsOb0"
      },
      "source": [
        "def binary_search(arr, x):\r\n",
        "    low = 0\r\n",
        "    high = len(arr) - 1\r\n",
        "    mid = 0\r\n",
        "    while low <= high:\r\n",
        "        mid = (high + low) // 2\r\n",
        "        if arr[mid] < x:\r\n",
        "            low = mid + 1\r\n",
        "        elif arr[mid] > x:\r\n",
        "            high = mid - 1\r\n",
        "        else:\r\n",
        "            return mid\r\n",
        "    return -1\r\n",
        "arr = []\r\n",
        "n = int(input(\"Enter number of elements : \"))\r\n",
        "for i in range(0, n):\r\n",
        "    ele = int(input())\r\n",
        "    arr.append(ele)\r\n",
        "print(arr)\r\n",
        "x=int(input(\"Enter \"))\r\n",
        "# Function call\r\n",
        "result = binary_search(arr, x)\r\n",
        "if result != -1:\r\n",
        "    print(\"Element is present at index\", str(result))\r\n",
        "else:\r\n",
        "    print(\"Element is not present in array\")"
      ],
      "execution_count": null,
      "outputs": []
    },
    {
      "cell_type": "markdown",
      "metadata": {
        "id": "SrC6NIXRtauc"
      },
      "source": [
        "# Fibonacci"
      ]
    },
    {
      "cell_type": "code",
      "metadata": {
        "colab": {
          "base_uri": "https://localhost:8080/"
        },
        "id": "7VJLPYCIuEPJ",
        "outputId": "6ef45dda-93b9-4bf1-85de-b148fc53e04f"
      },
      "source": [
        "def Fibonacci(n):\r\n",
        "    if n < 0:\r\n",
        "        print(\"Incorrect input\")\r\n",
        "\r\n",
        "    elif n == 1:\r\n",
        "        return 1\r\n",
        "\r\n",
        "    elif n == 2:\r\n",
        "        return 2\r\n",
        "\r\n",
        "    else:\r\n",
        "        return Fibonacci(n - 1) + Fibonacci(n - 2)\r\n",
        "a = int(input(\"Enter number of element:\"))\r\n",
        "\r\n",
        "print(Fibonacci(a))"
      ],
      "execution_count": null,
      "outputs": [
        {
          "output_type": "stream",
          "text": [
            "Enter number of element:6\n",
            "13\n"
          ],
          "name": "stdout"
        }
      ]
    },
    {
      "cell_type": "markdown",
      "metadata": {
        "id": "4IK1CeuYxV5p"
      },
      "source": [
        "# Quick Sort"
      ]
    },
    {
      "cell_type": "code",
      "metadata": {
        "colab": {
          "base_uri": "https://localhost:8080/"
        },
        "id": "6OGQh2B4xoJe",
        "outputId": "624a9464-440f-4513-94d3-63309a419b06"
      },
      "source": [
        "def partition(arr, low, high):\r\n",
        "    i = (low - 1)\r\n",
        "    pivot = arr[high]\r\n",
        "\r\n",
        "    for j in range(low, high):\r\n",
        "\r\n",
        "        if arr[j] <= pivot:\r\n",
        "            i = i + 1\r\n",
        "            arr[i], arr[j] = arr[j], arr[i]\r\n",
        "\r\n",
        "    arr[i + 1], arr[high] = arr[high], arr[i + 1]\r\n",
        "    return i + 1\r\n",
        "\r\n",
        "\r\n",
        "def quick_sort(arr, l, h):\r\n",
        "\r\n",
        "    if l < h:\r\n",
        "        pi = partition(arr, l, h)\r\n",
        "\r\n",
        "        quick_sort(arr, l, pi-1)\r\n",
        "        quick_sort(arr, pi+1, h)\r\n",
        "\r\n",
        "\r\n",
        "arr = [12, 11, 13, 5, 6, 7, 10, 2]\r\n",
        "n = len(arr)\r\n",
        "quick_sort(arr, 0, n - 1)\r\n",
        "print(\"Sorted array:\")\r\n",
        "print(arr)"
      ],
      "execution_count": null,
      "outputs": [
        {
          "output_type": "stream",
          "text": [
            "Sorted array:\n",
            "[2, 5, 6, 7, 10, 11, 12, 13]\n"
          ],
          "name": "stdout"
        }
      ]
    },
    {
      "cell_type": "markdown",
      "metadata": {
        "id": "BiKUS-QK1tFD"
      },
      "source": [
        "# Dictionary Graph"
      ]
    },
    {
      "cell_type": "code",
      "metadata": {
        "colab": {
          "base_uri": "https://localhost:8080/"
        },
        "id": "ajCCu4Cb1x3x",
        "outputId": "c294b57e-3c81-437b-bc27-70d9d4cc4c42"
      },
      "source": [
        "dict = {\r\n",
        "\r\n",
        "}\r\n",
        "\r\n",
        "\r\n",
        "def add_word(w, t_r):\r\n",
        "    dict[w] = t_r\r\n",
        "\r\n",
        "\r\n",
        "def del_word(w):\r\n",
        "    del dict[w]\r\n",
        "\r\n",
        "\r\n",
        "def del_translation(w):\r\n",
        "    dict[w] = ''\r\n",
        "\r\n",
        "\r\n",
        "add_word(\"add\", \"додати\")\r\n",
        "add_word(\"remove\", \"прибрати\")\r\n",
        "print(dict)\r\n",
        "\r\n",
        "del_word(\"remove\")\r\n",
        "print(dict)\r\n",
        "\r\n",
        "del_translation(\"add\")\r\n",
        "print(dict)"
      ],
      "execution_count": null,
      "outputs": [
        {
          "output_type": "stream",
          "text": [
            "{'add': 'додати', 'remove': 'прибрати'}\n",
            "{'add': 'додати'}\n",
            "{'add': ''}\n"
          ],
          "name": "stdout"
        }
      ]
    }
  ]
}